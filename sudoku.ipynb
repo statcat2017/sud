{
 "cells": [
  {
   "cell_type": "code",
   "execution_count": 1,
   "metadata": {},
   "outputs": [
    {
     "name": "stdout",
     "output_type": "stream",
     "text": [
      "[[0, 3, 0, 0, 1, 0, 0, 6, 0], [7, 5, 0, 0, 3, 0, 0, 4, 8], [0, 0, 6, 9, 8, 4, 3, 0, 0], [0, 0, 3, 0, 0, 0, 8, 0, 0], [9, 1, 2, 0, 0, 0, 6, 7, 4], [0, 0, 4, 0, 0, 0, 5, 0, 0], [0, 0, 1, 6, 7, 5, 2, 0, 0], [6, 8, 0, 0, 9, 0, 0, 1, 5], [0, 9, 0, 0, 4, 0, 0, 3, 0]]\n"
     ]
    }
   ],
   "source": [
    "def create_puzzle(): \n",
    "    puzzle = []\n",
    "    row = [0,0,0,0,0,0,0,0,0]\n",
    "    for i in range(1,10):\n",
    "        puzzle.append(row[:])\n",
    "    #define puzzle\n",
    "    #row 1\n",
    "    puzzle[0][1] = 3\n",
    "    puzzle[0][4] = 1\n",
    "    puzzle[0][7] = 6\n",
    "    #row 2\n",
    "    puzzle[1][0] = 7\n",
    "    puzzle[1][1] = 5\n",
    "    puzzle[1][4] = 3\n",
    "    puzzle[1][7] = 4\n",
    "    puzzle[1][8] = 8\n",
    "    #row 3\n",
    "    puzzle[2][2] = 6\n",
    "    puzzle[2][3] = 9\n",
    "    puzzle[2][4] = 8\n",
    "    puzzle[2][5] = 4\n",
    "    puzzle[2][6] = 3\n",
    "    #row 4\n",
    "    puzzle[3][2] = 3\n",
    "    puzzle[3][6] = 8\n",
    "    #row 5\n",
    "    puzzle[4][0] = 9\n",
    "    puzzle[4][1] = 1\n",
    "    puzzle[4][2] = 2\n",
    "    puzzle[4][6] = 6\n",
    "    puzzle[4][7] = 7\n",
    "    puzzle[4][8] = 4\n",
    "    #row 6\n",
    "    puzzle[5][2] = 4\n",
    "    puzzle[5][6] = 5\n",
    "    #row7\n",
    "    puzzle[6][2] = 1\n",
    "    puzzle[6][3] = 6\n",
    "    puzzle[6][4] = 7\n",
    "    puzzle[6][5] = 5\n",
    "    puzzle[6][6] = 2\n",
    "    #row 8\n",
    "    puzzle[7][0] = 6\n",
    "    puzzle[7][1] = 8\n",
    "    puzzle[7][4] = 9\n",
    "    puzzle[7][7] = 1\n",
    "    puzzle[7][8] = 5\n",
    "    #row 9\n",
    "    puzzle[8][1] = 9\n",
    "    puzzle[8][4] = 4\n",
    "    puzzle[8][7] = 3\n",
    "    return puzzle\n",
    "    \n",
    "puzzle = create_puzzle()\n",
    "\n",
    "print(puzzle)\n"
   ]
  },
  {
   "cell_type": "code",
   "execution_count": 2,
   "metadata": {
    "scrolled": true
   },
   "outputs": [
    {
     "name": "stdout",
     "output_type": "stream",
     "text": [
      "[[[], [], [], [], [], [], [], [], []], [[], [], [], [], [], [], [], [], []], [[], [], [], [], [], [], [], [], []], [[], [], [], [], [], [], [], [], []], [[], [], [], [], [], [], [], [], []], [[], [], [], [], [], [], [], [], []], [[], [], [], [], [], [], [], [], []], [[], [], [], [], [], [], [], [], []], [[], [], [], [], [], [], [], [], []]]\n"
     ]
    }
   ],
   "source": [
    "candidates = [[[],[],[],[],[],[],[],[],[]],[[],[],[],[],[],[],[],[],[]],[[],[],[],[],[],[],[],[],[]],[[],[],[],[],[],[],[],[],[]],[[],[],[],[],[],[],[],[],[]],[[],[],[],[],[],[],[],[],[]],[[],[],[],[],[],[],[],[],[]],[[],[],[],[],[],[],[],[],[]],[[],[],[],[],[],[],[],[],[]]]\n",
    "print(candidates)\n",
    "    "
   ]
  },
  {
   "cell_type": "code",
   "execution_count": 3,
   "metadata": {},
   "outputs": [
    {
     "name": "stdout",
     "output_type": "stream",
     "text": [
      "[[[1, 2, 3, 4, 5, 6, 7, 8, 9], [1, 2, 3, 4, 5, 6, 7, 8, 9], [1, 2, 3, 4, 5, 6, 7, 8, 9], [1, 2, 3, 4, 5, 6, 7, 8, 9], [1, 2, 3, 4, 5, 6, 7, 8, 9], [1, 2, 3, 4, 5, 6, 7, 8, 9], [1, 2, 3, 4, 5, 6, 7, 8, 9], [1, 2, 3, 4, 5, 6, 7, 8, 9], [1, 2, 3, 4, 5, 6, 7, 8, 9]], [[1, 2, 3, 4, 5, 6, 7, 8, 9], [1, 2, 3, 4, 5, 6, 7, 8, 9], [1, 2, 3, 4, 5, 6, 7, 8, 9], [1, 2, 3, 4, 5, 6, 7, 8, 9], [1, 2, 3, 4, 5, 6, 7, 8, 9], [1, 2, 3, 4, 5, 6, 7, 8, 9], [1, 2, 3, 4, 5, 6, 7, 8, 9], [1, 2, 3, 4, 5, 6, 7, 8, 9], [1, 2, 3, 4, 5, 6, 7, 8, 9]], [[1, 2, 3, 4, 5, 6, 7, 8, 9], [1, 2, 3, 4, 5, 6, 7, 8, 9], [1, 2, 3, 4, 5, 6, 7, 8, 9], [1, 2, 3, 4, 5, 6, 7, 8, 9], [1, 2, 3, 4, 5, 6, 7, 8, 9], [1, 2, 3, 4, 5, 6, 7, 8, 9], [1, 2, 3, 4, 5, 6, 7, 8, 9], [1, 2, 3, 4, 5, 6, 7, 8, 9], [1, 2, 3, 4, 5, 6, 7, 8, 9]], [[1, 2, 3, 4, 5, 6, 7, 8, 9], [1, 2, 3, 4, 5, 6, 7, 8, 9], [1, 2, 3, 4, 5, 6, 7, 8, 9], [1, 2, 3, 4, 5, 6, 7, 8, 9], [1, 2, 3, 4, 5, 6, 7, 8, 9], [1, 2, 3, 4, 5, 6, 7, 8, 9], [1, 2, 3, 4, 5, 6, 7, 8, 9], [1, 2, 3, 4, 5, 6, 7, 8, 9], [1, 2, 3, 4, 5, 6, 7, 8, 9]], [[1, 2, 3, 4, 5, 6, 7, 8, 9], [1, 2, 3, 4, 5, 6, 7, 8, 9], [1, 2, 3, 4, 5, 6, 7, 8, 9], [1, 2, 3, 4, 5, 6, 7, 8, 9], [1, 2, 3, 4, 5, 6, 7, 8, 9], [1, 2, 3, 4, 5, 6, 7, 8, 9], [1, 2, 3, 4, 5, 6, 7, 8, 9], [1, 2, 3, 4, 5, 6, 7, 8, 9], [1, 2, 3, 4, 5, 6, 7, 8, 9]], [[1, 2, 3, 4, 5, 6, 7, 8, 9], [1, 2, 3, 4, 5, 6, 7, 8, 9], [1, 2, 3, 4, 5, 6, 7, 8, 9], [1, 2, 3, 4, 5, 6, 7, 8, 9], [1, 2, 3, 4, 5, 6, 7, 8, 9], [1, 2, 3, 4, 5, 6, 7, 8, 9], [1, 2, 3, 4, 5, 6, 7, 8, 9], [1, 2, 3, 4, 5, 6, 7, 8, 9], [1, 2, 3, 4, 5, 6, 7, 8, 9]], [[1, 2, 3, 4, 5, 6, 7, 8, 9], [1, 2, 3, 4, 5, 6, 7, 8, 9], [1, 2, 3, 4, 5, 6, 7, 8, 9], [1, 2, 3, 4, 5, 6, 7, 8, 9], [1, 2, 3, 4, 5, 6, 7, 8, 9], [1, 2, 3, 4, 5, 6, 7, 8, 9], [1, 2, 3, 4, 5, 6, 7, 8, 9], [1, 2, 3, 4, 5, 6, 7, 8, 9], [1, 2, 3, 4, 5, 6, 7, 8, 9]], [[1, 2, 3, 4, 5, 6, 7, 8, 9], [1, 2, 3, 4, 5, 6, 7, 8, 9], [1, 2, 3, 4, 5, 6, 7, 8, 9], [1, 2, 3, 4, 5, 6, 7, 8, 9], [1, 2, 3, 4, 5, 6, 7, 8, 9], [1, 2, 3, 4, 5, 6, 7, 8, 9], [1, 2, 3, 4, 5, 6, 7, 8, 9], [1, 2, 3, 4, 5, 6, 7, 8, 9], [1, 2, 3, 4, 5, 6, 7, 8, 9]], [[1, 2, 3, 4, 5, 6, 7, 8, 9], [1, 2, 3, 4, 5, 6, 7, 8, 9], [1, 2, 3, 4, 5, 6, 7, 8, 9], [1, 2, 3, 4, 5, 6, 7, 8, 9], [1, 2, 3, 4, 5, 6, 7, 8, 9], [1, 2, 3, 4, 5, 6, 7, 8, 9], [1, 2, 3, 4, 5, 6, 7, 8, 9], [1, 2, 3, 4, 5, 6, 7, 8, 9], [1, 2, 3, 4, 5, 6, 7, 8, 9]]]\n"
     ]
    }
   ],
   "source": [
    "\n",
    "for i in range(0,9):\n",
    "    for j in range(0,9):\n",
    "        for k in range(1,10):\n",
    "            candidates[i][j].append(k)\n",
    "            \n",
    "print(candidates)"
   ]
  },
  {
   "cell_type": "code",
   "execution_count": 4,
   "metadata": {},
   "outputs": [],
   "source": [
    "#now we need functions to remove candidates based on the puzzle for populated numbers that already exists. \n",
    "#remove all candidates that also appear on a given cells row, column and neighbourhood."
   ]
  },
  {
   "cell_type": "code",
   "execution_count": 5,
   "metadata": {},
   "outputs": [
    {
     "name": "stdout",
     "output_type": "stream",
     "text": [
      "[[[1, 2, 3, 4, 5, 6, 7, 8, 9], 3, [1, 2, 3, 4, 5, 6, 7, 8, 9], [1, 2, 3, 4, 5, 6, 7, 8, 9], 1, [1, 2, 3, 4, 5, 6, 7, 8, 9], [1, 2, 3, 4, 5, 6, 7, 8, 9], 6, [1, 2, 3, 4, 5, 6, 7, 8, 9]], [7, 5, [1, 2, 3, 4, 5, 6, 7, 8, 9], [1, 2, 3, 4, 5, 6, 7, 8, 9], 3, [1, 2, 3, 4, 5, 6, 7, 8, 9], [1, 2, 3, 4, 5, 6, 7, 8, 9], 4, 8], [[1, 2, 3, 4, 5, 6, 7, 8, 9], [1, 2, 3, 4, 5, 6, 7, 8, 9], 6, 9, 8, 4, 3, [1, 2, 3, 4, 5, 6, 7, 8, 9], [1, 2, 3, 4, 5, 6, 7, 8, 9]], [[1, 2, 3, 4, 5, 6, 7, 8, 9], [1, 2, 3, 4, 5, 6, 7, 8, 9], 3, [1, 2, 3, 4, 5, 6, 7, 8, 9], [1, 2, 3, 4, 5, 6, 7, 8, 9], [1, 2, 3, 4, 5, 6, 7, 8, 9], 8, [1, 2, 3, 4, 5, 6, 7, 8, 9], [1, 2, 3, 4, 5, 6, 7, 8, 9]], [9, 1, 2, [1, 2, 3, 4, 5, 6, 7, 8, 9], [1, 2, 3, 4, 5, 6, 7, 8, 9], [1, 2, 3, 4, 5, 6, 7, 8, 9], 6, 7, 4], [[1, 2, 3, 4, 5, 6, 7, 8, 9], [1, 2, 3, 4, 5, 6, 7, 8, 9], 4, [1, 2, 3, 4, 5, 6, 7, 8, 9], [1, 2, 3, 4, 5, 6, 7, 8, 9], [1, 2, 3, 4, 5, 6, 7, 8, 9], 5, [1, 2, 3, 4, 5, 6, 7, 8, 9], [1, 2, 3, 4, 5, 6, 7, 8, 9]], [[1, 2, 3, 4, 5, 6, 7, 8, 9], [1, 2, 3, 4, 5, 6, 7, 8, 9], 1, 6, 7, 5, 2, [1, 2, 3, 4, 5, 6, 7, 8, 9], [1, 2, 3, 4, 5, 6, 7, 8, 9]], [6, 8, [1, 2, 3, 4, 5, 6, 7, 8, 9], [1, 2, 3, 4, 5, 6, 7, 8, 9], 9, [1, 2, 3, 4, 5, 6, 7, 8, 9], [1, 2, 3, 4, 5, 6, 7, 8, 9], 1, 5], [[1, 2, 3, 4, 5, 6, 7, 8, 9], 9, [1, 2, 3, 4, 5, 6, 7, 8, 9], [1, 2, 3, 4, 5, 6, 7, 8, 9], 4, [1, 2, 3, 4, 5, 6, 7, 8, 9], [1, 2, 3, 4, 5, 6, 7, 8, 9], 3, [1, 2, 3, 4, 5, 6, 7, 8, 9]]]\n"
     ]
    }
   ],
   "source": [
    "def solved_nums(puzzle,candidates): #takes a puzzle and a candidates grid and sets xy in candidates for solved numbers\n",
    "    for x in range(0,9):\n",
    "        for y in range(0,9):\n",
    "            if puzzle[x][y] > 0:\n",
    "                candidates[x][y] = puzzle [x][y]\n",
    "                        \n",
    "solved_nums(puzzle,candidates)\n",
    "print(candidates)        "
   ]
  },
  {
   "cell_type": "code",
   "execution_count": 6,
   "metadata": {},
   "outputs": [
    {
     "name": "stdout",
     "output_type": "stream",
     "text": [
      "[3, 1, 6]\n"
     ]
    }
   ],
   "source": [
    "def row_grab(x,y): #takes the xy coordinates of a sudoku square, returns the nums popd in that row in the puzzle as a list \n",
    "    added = []\n",
    "    for i in puzzle[x]:\n",
    "        if int(i) > 0:\n",
    "            added.append(int(i))\n",
    "    return(added)\n",
    "\n",
    "print(row_grab(0,0))"
   ]
  },
  {
   "cell_type": "code",
   "execution_count": 7,
   "metadata": {},
   "outputs": [
    {
     "name": "stdout",
     "output_type": "stream",
     "text": [
      "[7, 9, 6]\n"
     ]
    }
   ],
   "source": [
    "def col_grab(x,y): #takes the xy coordinates of a sudoku square, returns the nums popd in that col in the puzzle as a list \n",
    "    added = []\n",
    "    for i in puzzle:\n",
    "        if i[y] > 0:\n",
    "            added.append(i[y])\n",
    "    return(added)\n",
    "\n",
    "print(col_grab(0,0))"
   ]
  },
  {
   "cell_type": "code",
   "execution_count": 8,
   "metadata": {},
   "outputs": [
    {
     "name": "stdout",
     "output_type": "stream",
     "text": [
      "[3, 7, 5, 6]\n"
     ]
    }
   ],
   "source": [
    "#some functions to enable us to work with neighbourhoods\n",
    "\n",
    "def xy_trans(x,y): #takes an xy coordinate and gives an xy of the neighbourhood\n",
    "    return(int((x)/3),int((y)/3))\n",
    "\n",
    "def neigh_grab(x,y): #takes the xy coordinates of a sudoku square, returns the nums popd in that neigh in the puzzle as a list\n",
    "    nx,ny = xy_trans(x,y)\n",
    "    added = []\n",
    "    for row in puzzle[nx*3:(nx*3)+3]:\n",
    "        for i in row[ny*3:ny*3+3]:\n",
    "            if i > 0:\n",
    "                added.append(i)\n",
    "    return added\n",
    "\n",
    "print(neigh_grab(0,0))"
   ]
  },
  {
   "cell_type": "code",
   "execution_count": 9,
   "metadata": {},
   "outputs": [
    {
     "name": "stdout",
     "output_type": "stream",
     "text": [
      "[2, 4, 8]\n"
     ]
    }
   ],
   "source": [
    "#have one function to pull all already added numbers for a given xy\n",
    "\n",
    "def check_candidates(x,y):\n",
    "    rule_out = []\n",
    "    rule_out.extend(row_grab(x,y))\n",
    "    rule_out.extend(col_grab(x,y))\n",
    "    rule_out.extend(neigh_grab(x,y))\n",
    "    output = []\n",
    "    for i in range(1,10):\n",
    "        if i not in rule_out:\n",
    "            output.append(i)\n",
    "    return sorted(output)\n",
    "\n",
    "print(check_candidates(0,0)) #so 0,0 can only be a 2,4 or 8."
   ]
  },
  {
   "cell_type": "code",
   "execution_count": 10,
   "metadata": {},
   "outputs": [
    {
     "name": "stdout",
     "output_type": "stream",
     "text": [
      "Left to solve: 25\n"
     ]
    }
   ],
   "source": [
    "#function to update all candidates to be what they actually are\n",
    "\n",
    "def reduce_candidates():\n",
    "    left_to_solve = 0\n",
    "    for x in range(0,9):\n",
    "        for y in range(0,9):\n",
    "            if puzzle[x][y] == 0:\n",
    "                left_to_solve += 1\n",
    "    #print(\"Start left to solve: \" + str(left_to_solve))\n",
    "    for x in range(0,9):\n",
    "        for y in range(0,9):\n",
    "            if puzzle[x][y] != 0:\n",
    "                continue\n",
    "            else:\n",
    "                check = check_candidates(x,y)\n",
    "                if len(check) == 1:\n",
    "                    #print(\"can solve: \" + str(check[0]))\n",
    "                    puzzle[x][y] = check[0]\n",
    "                else:\n",
    "                    #print(\"candidates: \" + str(check_candidates(x,y)))\n",
    "                    candidates[x][y] = check_candidates(x,y)\n",
    "    left_to_solve = 0\n",
    "    for x in range(0,9):\n",
    "        for y in range(0,9):\n",
    "            if puzzle[x][y] == 0:\n",
    "                left_to_solve += 1\n",
    "    print(\"Left to solve: \" + str(left_to_solve))\n",
    "\n",
    "reduce_candidates()\n",
    "            \n",
    "            "
   ]
  },
  {
   "cell_type": "code",
   "execution_count": 11,
   "metadata": {},
   "outputs": [
    {
     "name": "stdout",
     "output_type": "stream",
     "text": [
      "Left to solve: 11\n"
     ]
    }
   ],
   "source": [
    "reduce_candidates()"
   ]
  },
  {
   "cell_type": "code",
   "execution_count": 12,
   "metadata": {},
   "outputs": [
    {
     "name": "stdout",
     "output_type": "stream",
     "text": [
      "Left to solve: 5\n"
     ]
    }
   ],
   "source": [
    "reduce_candidates()"
   ]
  },
  {
   "cell_type": "code",
   "execution_count": 13,
   "metadata": {},
   "outputs": [
    {
     "name": "stdout",
     "output_type": "stream",
     "text": [
      "Left to solve: 1\n"
     ]
    }
   ],
   "source": [
    "reduce_candidates()"
   ]
  },
  {
   "cell_type": "code",
   "execution_count": 14,
   "metadata": {},
   "outputs": [
    {
     "name": "stdout",
     "output_type": "stream",
     "text": [
      "Left to solve: 0\n"
     ]
    }
   ],
   "source": [
    "reduce_candidates()"
   ]
  },
  {
   "cell_type": "code",
   "execution_count": 15,
   "metadata": {},
   "outputs": [
    {
     "name": "stdout",
     "output_type": "stream",
     "text": [
      "[[4, 3, 8, 5, 1, 7, 9, 6, 2], [7, 5, 9, 2, 3, 6, 1, 4, 8], [1, 2, 6, 9, 8, 4, 3, 5, 7], [5, 7, 3, 4, 6, 9, 8, 2, 1], [9, 1, 2, 8, 5, 3, 6, 7, 4], [8, 6, 4, 7, 2, 1, 5, 9, 3], [3, 4, 1, 6, 7, 5, 2, 8, 9], [6, 8, 7, 3, 9, 2, 4, 1, 5], [2, 9, 5, 1, 4, 8, 7, 3, 6]]\n"
     ]
    }
   ],
   "source": [
    "print(puzzle)"
   ]
  },
  {
   "cell_type": "code",
   "execution_count": 16,
   "metadata": {},
   "outputs": [
    {
     "name": "stdout",
     "output_type": "stream",
     "text": [
      "The puzzle is solved!\n"
     ]
    },
    {
     "data": {
      "text/plain": [
       "True"
      ]
     },
     "execution_count": 16,
     "metadata": {},
     "output_type": "execute_result"
    }
   ],
   "source": [
    "def check_solution(puzzle_to_check):\n",
    "    numcounts = {}\n",
    "    for x in range(0,9):\n",
    "        for y in range(0,9):\n",
    "            if puzzle_to_check[x][y] in numcounts:\n",
    "                numcounts[puzzle_to_check[x][y]] += 1\n",
    "            else:\n",
    "                numcounts[puzzle_to_check[x][y]] = 1\n",
    "    for x in numcounts:\n",
    "        if numcounts[x] != 9:\n",
    "            print(\"Puzzle not yet populated\")\n",
    "            return False\n",
    "    for x in range(0,9):\n",
    "        for y in range(1,10):\n",
    "            if y not in puzzle[x]:\n",
    "                print(\"row \" + str(x+1) + \" is not valid\")\n",
    "                return False\n",
    "    for x in range(0,9):\n",
    "        added = []\n",
    "        for y in range(0,9):\n",
    "            added.append(puzzle[x][y])\n",
    "        for z in range(1,10):\n",
    "            if z not in added:\n",
    "                print(\"Column \" + str(y+1) + \" is not valid\")\n",
    "                return False\n",
    "    for x in range(0,3):\n",
    "        for y in range(0,3):\n",
    "            sub = puzzle[x*3:x*3+3]\n",
    "            added = []\n",
    "            for item in sub:\n",
    "                added.extend(item[y*3:y*3+3])\n",
    "            for i in range(1,10):\n",
    "                if i not in added:\n",
    "                    print(\"Neighbourhood \" +str(x) + \" \" +str(y) + \" is not valid\")\n",
    "    print(\"The puzzle is solved!\")\n",
    "    return True\n",
    "\n",
    "\n",
    "check_solution(puzzle)\n",
    "                "
   ]
  },
  {
   "cell_type": "code",
   "execution_count": 17,
   "metadata": {},
   "outputs": [],
   "source": [
    "def solve_puzzle(puzzle):\n",
    "    while check_solution(puzzle) == False:\n",
    "        reduce_candidates()\n",
    "    return puzzle"
   ]
  },
  {
   "cell_type": "code",
   "execution_count": 18,
   "metadata": {},
   "outputs": [
    {
     "name": "stdout",
     "output_type": "stream",
     "text": [
      "Puzzle not yet populated\n",
      "Left to solve: 25\n",
      "Puzzle not yet populated\n",
      "Left to solve: 11\n",
      "Puzzle not yet populated\n",
      "Left to solve: 5\n",
      "Puzzle not yet populated\n",
      "Left to solve: 1\n",
      "Puzzle not yet populated\n",
      "Left to solve: 0\n",
      "The puzzle is solved!\n"
     ]
    },
    {
     "data": {
      "text/plain": [
       "[[4, 3, 8, 5, 1, 7, 9, 6, 2],\n",
       " [7, 5, 9, 2, 3, 6, 1, 4, 8],\n",
       " [1, 2, 6, 9, 8, 4, 3, 5, 7],\n",
       " [5, 7, 3, 4, 6, 9, 8, 2, 1],\n",
       " [9, 1, 2, 8, 5, 3, 6, 7, 4],\n",
       " [8, 6, 4, 7, 2, 1, 5, 9, 3],\n",
       " [3, 4, 1, 6, 7, 5, 2, 8, 9],\n",
       " [6, 8, 7, 3, 9, 2, 4, 1, 5],\n",
       " [2, 9, 5, 1, 4, 8, 7, 3, 6]]"
      ]
     },
     "execution_count": 18,
     "metadata": {},
     "output_type": "execute_result"
    }
   ],
   "source": [
    "puzzle = create_puzzle()\n",
    "solve_puzzle(puzzle)"
   ]
  }
 ],
 "metadata": {
  "kernelspec": {
   "display_name": "Python 3",
   "language": "python",
   "name": "python3"
  },
  "language_info": {
   "codemirror_mode": {
    "name": "ipython",
    "version": 3
   },
   "file_extension": ".py",
   "mimetype": "text/x-python",
   "name": "python",
   "nbconvert_exporter": "python",
   "pygments_lexer": "ipython3",
   "version": "3.7.1"
  }
 },
 "nbformat": 4,
 "nbformat_minor": 2
}
